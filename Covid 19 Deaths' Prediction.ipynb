{
 "cells": [
  {
   "cell_type": "code",
   "execution_count": 1,
   "id": "5073a5bb",
   "metadata": {},
   "outputs": [],
   "source": [
    "# 1.0 Call libraries:\n",
    "\n",
    "import pandas as pd\n",
    "from  pathlib import Path\n",
    "\n",
    "# 1.0.1\n",
    "from sklearn.model_selection import train_test_split\n",
    "from sklearn.metrics import mean_absolute_error\n",
    "\n",
    "# 1.0.2\n",
    "from xgboost import XGBRegressor\n",
    "from sklearn.metrics import accuracy_score, f1_score"
   ]
  },
  {
   "cell_type": "code",
   "execution_count": 21,
   "id": "1a69cf08",
   "metadata": {},
   "outputs": [],
   "source": [
    "# 2.0 Read the data\n",
    "data = pd.read_csv('C:/Users/Sheela/Downloads/covid_data.csv')"
   ]
  },
  {
   "cell_type": "code",
   "execution_count": 22,
   "id": "cdd7d82c",
   "metadata": {
    "scrolled": true
   },
   "outputs": [
    {
     "data": {
      "text/html": [
       "<div>\n",
       "<style scoped>\n",
       "    .dataframe tbody tr th:only-of-type {\n",
       "        vertical-align: middle;\n",
       "    }\n",
       "\n",
       "    .dataframe tbody tr th {\n",
       "        vertical-align: top;\n",
       "    }\n",
       "\n",
       "    .dataframe thead th {\n",
       "        text-align: right;\n",
       "    }\n",
       "</style>\n",
       "<table border=\"1\" class=\"dataframe\">\n",
       "  <thead>\n",
       "    <tr style=\"text-align: right;\">\n",
       "      <th></th>\n",
       "      <th>Continent</th>\n",
       "      <th>Country</th>\n",
       "      <th>Population</th>\n",
       "      <th>Cases.New</th>\n",
       "      <th>Cases.Active</th>\n",
       "      <th>Cases.Critical</th>\n",
       "      <th>Cases.Recovered</th>\n",
       "      <th>Cases.1M_pop</th>\n",
       "      <th>Cases.Total</th>\n",
       "      <th>Deaths.New</th>\n",
       "      <th>Deaths.1M_pop</th>\n",
       "      <th>DeathsTotal</th>\n",
       "      <th>Tests.1M_pop</th>\n",
       "      <th>Tests.Total</th>\n",
       "      <th>Day</th>\n",
       "      <th>Time</th>\n",
       "    </tr>\n",
       "  </thead>\n",
       "  <tbody>\n",
       "    <tr>\n",
       "      <th>0</th>\n",
       "      <td>North-America</td>\n",
       "      <td>Anguilla</td>\n",
       "      <td>15230.0</td>\n",
       "      <td>NaN</td>\n",
       "      <td>13.0</td>\n",
       "      <td>4.0</td>\n",
       "      <td>3879.0</td>\n",
       "      <td>256336.0</td>\n",
       "      <td>3904</td>\n",
       "      <td>NaN</td>\n",
       "      <td>788.0</td>\n",
       "      <td>12.0</td>\n",
       "      <td>3373736.0</td>\n",
       "      <td>51382.0</td>\n",
       "      <td>7/7/2023</td>\n",
       "      <td>2023-07-07T17:30:09+00:00</td>\n",
       "    </tr>\n",
       "    <tr>\n",
       "      <th>1</th>\n",
       "      <td>North-America</td>\n",
       "      <td>Saint-Pierre-Miquelon</td>\n",
       "      <td>5759.0</td>\n",
       "      <td>NaN</td>\n",
       "      <td>1001.0</td>\n",
       "      <td>1.0</td>\n",
       "      <td>2449.0</td>\n",
       "      <td>599410.0</td>\n",
       "      <td>3452</td>\n",
       "      <td>NaN</td>\n",
       "      <td>347.0</td>\n",
       "      <td>2.0</td>\n",
       "      <td>4410488.0</td>\n",
       "      <td>25400.0</td>\n",
       "      <td>7/7/2023</td>\n",
       "      <td>2023-07-07T17:30:09+00:00</td>\n",
       "    </tr>\n",
       "    <tr>\n",
       "      <th>2</th>\n",
       "      <td>Africa</td>\n",
       "      <td>Saint-Helena</td>\n",
       "      <td>6115.0</td>\n",
       "      <td>NaN</td>\n",
       "      <td>2164.0</td>\n",
       "      <td>NaN</td>\n",
       "      <td>2.0</td>\n",
       "      <td>354211.0</td>\n",
       "      <td>2166</td>\n",
       "      <td>NaN</td>\n",
       "      <td>NaN</td>\n",
       "      <td>NaN</td>\n",
       "      <td>NaN</td>\n",
       "      <td>NaN</td>\n",
       "      <td>7/7/2023</td>\n",
       "      <td>2023-07-07T17:30:09+00:00</td>\n",
       "    </tr>\n",
       "    <tr>\n",
       "      <th>3</th>\n",
       "      <td>South-America</td>\n",
       "      <td>Falkland-Islands</td>\n",
       "      <td>3539.0</td>\n",
       "      <td>NaN</td>\n",
       "      <td>0.0</td>\n",
       "      <td>NaN</td>\n",
       "      <td>1930.0</td>\n",
       "      <td>545352.0</td>\n",
       "      <td>1930</td>\n",
       "      <td>NaN</td>\n",
       "      <td>NaN</td>\n",
       "      <td>NaN</td>\n",
       "      <td>2439107.0</td>\n",
       "      <td>8632.0</td>\n",
       "      <td>7/7/2023</td>\n",
       "      <td>2023-07-07T17:30:09+00:00</td>\n",
       "    </tr>\n",
       "    <tr>\n",
       "      <th>4</th>\n",
       "      <td>North-America</td>\n",
       "      <td>Montserrat</td>\n",
       "      <td>4965.0</td>\n",
       "      <td>NaN</td>\n",
       "      <td>19.0</td>\n",
       "      <td>NaN</td>\n",
       "      <td>1376.0</td>\n",
       "      <td>282578.0</td>\n",
       "      <td>1403</td>\n",
       "      <td>NaN</td>\n",
       "      <td>1611.0</td>\n",
       "      <td>8.0</td>\n",
       "      <td>3577442.0</td>\n",
       "      <td>17762.0</td>\n",
       "      <td>7/7/2023</td>\n",
       "      <td>2023-07-07T17:30:09+00:00</td>\n",
       "    </tr>\n",
       "  </tbody>\n",
       "</table>\n",
       "</div>"
      ],
      "text/plain": [
       "       Continent                Country  Population  Cases.New  Cases.Active  \\\n",
       "0  North-America               Anguilla     15230.0        NaN          13.0   \n",
       "1  North-America  Saint-Pierre-Miquelon      5759.0        NaN        1001.0   \n",
       "2         Africa           Saint-Helena      6115.0        NaN        2164.0   \n",
       "3  South-America       Falkland-Islands      3539.0        NaN           0.0   \n",
       "4  North-America             Montserrat      4965.0        NaN          19.0   \n",
       "\n",
       "   Cases.Critical  Cases.Recovered  Cases.1M_pop  Cases.Total  Deaths.New  \\\n",
       "0             4.0           3879.0      256336.0         3904         NaN   \n",
       "1             1.0           2449.0      599410.0         3452         NaN   \n",
       "2             NaN              2.0      354211.0         2166         NaN   \n",
       "3             NaN           1930.0      545352.0         1930         NaN   \n",
       "4             NaN           1376.0      282578.0         1403         NaN   \n",
       "\n",
       "   Deaths.1M_pop  DeathsTotal  Tests.1M_pop  Tests.Total       Day  \\\n",
       "0          788.0         12.0     3373736.0      51382.0  7/7/2023   \n",
       "1          347.0          2.0     4410488.0      25400.0  7/7/2023   \n",
       "2            NaN          NaN           NaN          NaN  7/7/2023   \n",
       "3            NaN          NaN     2439107.0       8632.0  7/7/2023   \n",
       "4         1611.0          8.0     3577442.0      17762.0  7/7/2023   \n",
       "\n",
       "                        Time  \n",
       "0  2023-07-07T17:30:09+00:00  \n",
       "1  2023-07-07T17:30:09+00:00  \n",
       "2  2023-07-07T17:30:09+00:00  \n",
       "3  2023-07-07T17:30:09+00:00  \n",
       "4  2023-07-07T17:30:09+00:00  "
      ]
     },
     "execution_count": 22,
     "metadata": {},
     "output_type": "execute_result"
    }
   ],
   "source": [
    "# 2.1 Show data:\n",
    "\n",
    "data.shape   \n",
    "data.head()"
   ]
  },
  {
   "cell_type": "code",
   "execution_count": 24,
   "id": "4e97df0b",
   "metadata": {},
   "outputs": [],
   "source": [
    "df = data.dropna()"
   ]
  },
  {
   "cell_type": "code",
   "execution_count": 25,
   "id": "fd929840",
   "metadata": {},
   "outputs": [],
   "source": [
    "# 2.2 Select subset of predictors:\n",
    "\n",
    "cols_to_use = ['Population', 'Cases.New', 'Cases.Active', 'Cases.Recovered']\n",
    "X = df[cols_to_use]\n",
    "\n",
    "# 2.3 Select target\n",
    "y = df.DeathsTotal\n",
    "\n",
    "# 2.4 Separate data into training and validation sets\n",
    "X_train, X_valid, y_train, y_valid = train_test_split(X, y)"
   ]
  },
  {
   "cell_type": "code",
   "execution_count": 26,
   "id": "7ac8434f",
   "metadata": {},
   "outputs": [],
   "source": [
    "import xgboost as xgb\n",
    "from sklearn.model_selection import train_test_split\n",
    "from sklearn.metrics import accuracy_score"
   ]
  },
  {
   "cell_type": "code",
   "execution_count": 27,
   "id": "07d2af7f",
   "metadata": {},
   "outputs": [
    {
     "data": {
      "text/plain": [
       "XGBRegressor(base_score=None, booster=None, callbacks=None,\n",
       "             colsample_bylevel=None, colsample_bynode=None,\n",
       "             colsample_bytree=None, early_stopping_rounds=None,\n",
       "             enable_categorical=False, eval_metric=None, feature_types=None,\n",
       "             gamma=None, gpu_id=None, grow_policy=None, importance_type=None,\n",
       "             interaction_constraints=None, learning_rate=None, max_bin=None,\n",
       "             max_cat_threshold=None, max_cat_to_onehot=None,\n",
       "             max_delta_step=None, max_depth=None, max_leaves=None,\n",
       "             min_child_weight=None, missing=nan, monotone_constraints=None,\n",
       "             n_estimators=100, n_jobs=None, num_parallel_tree=None,\n",
       "             predictor=None, random_state=None, ...)"
      ]
     },
     "execution_count": 27,
     "metadata": {},
     "output_type": "execute_result"
    }
   ],
   "source": [
    "# 3.0\n",
    "my_model = XGBRegressor()\n",
    "my_model.fit(X_train, y_train, verbose = True)"
   ]
  },
  {
   "cell_type": "code",
   "execution_count": 28,
   "id": "25af3b3c",
   "metadata": {},
   "outputs": [
    {
     "name": "stdout",
     "output_type": "stream",
     "text": [
      "Mean Absolute Error: 4454.6102294921875\n"
     ]
    }
   ],
   "source": [
    "# 3.1 Predictions:\n",
    "\n",
    "predictions = my_model.predict(X_valid)\n",
    "print(\"Mean Absolute Error: \" + str(mean_absolute_error(predictions, y_valid)))"
   ]
  },
  {
   "cell_type": "code",
   "execution_count": 29,
   "id": "4fd2bbd0",
   "metadata": {},
   "outputs": [
    {
     "data": {
      "text/plain": [
       "XGBRegressor(base_score=None, booster=None, callbacks=None,\n",
       "             colsample_bylevel=None, colsample_bynode=None,\n",
       "             colsample_bytree=None, early_stopping_rounds=None,\n",
       "             enable_categorical=False, eval_metric=None, feature_types=None,\n",
       "             gamma=None, gpu_id=None, grow_policy=None, importance_type=None,\n",
       "             interaction_constraints=None, learning_rate=None, max_bin=None,\n",
       "             max_cat_threshold=None, max_cat_to_onehot=None,\n",
       "             max_delta_step=None, max_depth=None, max_leaves=None,\n",
       "             min_child_weight=None, missing=nan, monotone_constraints=None,\n",
       "             n_estimators=500, n_jobs=None, num_parallel_tree=None,\n",
       "             predictor=None, random_state=None, ...)"
      ]
     },
     "execution_count": 29,
     "metadata": {},
     "output_type": "execute_result"
    }
   ],
   "source": [
    "# 3.2 Set n_estimators:\n",
    "\n",
    "my_model = XGBRegressor(n_estimators=500)\n",
    "my_model.fit(X_train, y_train, verbose = True)"
   ]
  },
  {
   "cell_type": "code",
   "execution_count": 30,
   "id": "b2f010d8",
   "metadata": {},
   "outputs": [
    {
     "name": "stdout",
     "output_type": "stream",
     "text": [
      "[0]\tvalidation_0-rmse:4026.29660\n",
      "[1]\tvalidation_0-rmse:2268.38697\n",
      "[2]\tvalidation_0-rmse:2415.04516\n",
      "[3]\tvalidation_0-rmse:2798.99815\n",
      "[4]\tvalidation_0-rmse:3261.03227\n",
      "[5]\tvalidation_0-rmse:3672.05509\n",
      "[6]\tvalidation_0-rmse:4012.57048\n"
     ]
    },
    {
     "name": "stderr",
     "output_type": "stream",
     "text": [
      "D:\\Bhavya\\lib\\site-packages\\xgboost\\sklearn.py:835: UserWarning: `early_stopping_rounds` in `fit` method is deprecated for better compatibility with scikit-learn, use `early_stopping_rounds` in constructor or`set_params` instead.\n",
      "  warnings.warn(\n"
     ]
    },
    {
     "data": {
      "text/plain": [
       "XGBRegressor(base_score=None, booster=None, callbacks=None,\n",
       "             colsample_bylevel=None, colsample_bynode=None,\n",
       "             colsample_bytree=None, early_stopping_rounds=None,\n",
       "             enable_categorical=False, eval_metric=None, feature_types=None,\n",
       "             gamma=None, gpu_id=None, grow_policy=None, importance_type=None,\n",
       "             interaction_constraints=None, learning_rate=None, max_bin=None,\n",
       "             max_cat_threshold=None, max_cat_to_onehot=None,\n",
       "             max_delta_step=None, max_depth=None, max_leaves=None,\n",
       "             min_child_weight=None, missing=nan, monotone_constraints=None,\n",
       "             n_estimators=500, n_jobs=None, num_parallel_tree=None,\n",
       "             predictor=None, random_state=None, ...)"
      ]
     },
     "execution_count": 30,
     "metadata": {},
     "output_type": "execute_result"
    }
   ],
   "source": [
    "# 3.3 Set early stop rounds:\n",
    "\n",
    "my_model = XGBRegressor(n_estimators=500)\n",
    "my_model.fit(X_train, y_train, \n",
    "             early_stopping_rounds=5, \n",
    "             eval_set=[(X_valid, y_valid)],\n",
    "             verbose= True)"
   ]
  },
  {
   "cell_type": "code",
   "execution_count": 31,
   "id": "d0f69e84",
   "metadata": {},
   "outputs": [
    {
     "name": "stdout",
     "output_type": "stream",
     "text": [
      "[0]\tvalidation_0-rmse:5737.40521\n",
      "[1]\tvalidation_0-rmse:5129.56556\n",
      "[2]\tvalidation_0-rmse:4943.29716\n",
      "[3]\tvalidation_0-rmse:4598.24894\n",
      "[4]\tvalidation_0-rmse:4286.68553\n",
      "[5]\tvalidation_0-rmse:3791.85149\n",
      "[6]\tvalidation_0-rmse:3651.50851\n",
      "[7]\tvalidation_0-rmse:3522.46844\n",
      "[8]\tvalidation_0-rmse:3309.60775\n",
      "[9]\tvalidation_0-rmse:3135.15378\n",
      "[10]\tvalidation_0-rmse:2797.80103\n",
      "[11]\tvalidation_0-rmse:2723.21567\n",
      "[12]\tvalidation_0-rmse:2659.59761\n",
      "[13]\tvalidation_0-rmse:2553.53967\n",
      "[14]\tvalidation_0-rmse:2460.30986\n",
      "[15]\tvalidation_0-rmse:2379.89404\n",
      "[16]\tvalidation_0-rmse:2356.12165\n",
      "[17]\tvalidation_0-rmse:2299.97605\n",
      "[18]\tvalidation_0-rmse:2255.30082\n",
      "[19]\tvalidation_0-rmse:2221.62754\n",
      "[20]\tvalidation_0-rmse:2230.28427\n",
      "[21]\tvalidation_0-rmse:2206.34744\n",
      "[22]\tvalidation_0-rmse:2227.78916\n",
      "[23]\tvalidation_0-rmse:2223.20113\n",
      "[24]\tvalidation_0-rmse:2270.45833\n",
      "[25]\tvalidation_0-rmse:2292.78221\n",
      "[26]\tvalidation_0-rmse:2349.95141\n"
     ]
    },
    {
     "data": {
      "text/plain": [
       "XGBRegressor(base_score=None, booster=None, callbacks=None,\n",
       "             colsample_bylevel=None, colsample_bynode=None,\n",
       "             colsample_bytree=None, early_stopping_rounds=None,\n",
       "             enable_categorical=False, eval_metric=None, feature_types=None,\n",
       "             gamma=None, gpu_id=None, grow_policy=None, importance_type=None,\n",
       "             interaction_constraints=None, learning_rate=0.05, max_bin=None,\n",
       "             max_cat_threshold=None, max_cat_to_onehot=None,\n",
       "             max_delta_step=None, max_depth=None, max_leaves=None,\n",
       "             min_child_weight=None, missing=nan, monotone_constraints=None,\n",
       "             n_estimators=1000, n_jobs=None, num_parallel_tree=None,\n",
       "             predictor=None, random_state=None, ...)"
      ]
     },
     "execution_count": 31,
     "metadata": {},
     "output_type": "execute_result"
    }
   ],
   "source": [
    "# 3.4 learning_rate:\n",
    "\n",
    "my_model = XGBRegressor(n_estimators=1000, learning_rate=0.05)\n",
    "my_model.fit(X_train, y_train, \n",
    "             early_stopping_rounds=5, \n",
    "             eval_set=[(X_valid, y_valid)], \n",
    "             verbose= True)"
   ]
  },
  {
   "cell_type": "code",
   "execution_count": 32,
   "id": "7f8ac39d",
   "metadata": {},
   "outputs": [
    {
     "name": "stdout",
     "output_type": "stream",
     "text": [
      "[0]\tvalidation_0-rmse:5737.40521\n",
      "[1]\tvalidation_0-rmse:5129.56556\n",
      "[2]\tvalidation_0-rmse:4943.29716\n",
      "[3]\tvalidation_0-rmse:4598.24894\n",
      "[4]\tvalidation_0-rmse:4286.68553\n",
      "[5]\tvalidation_0-rmse:3791.85149\n",
      "[6]\tvalidation_0-rmse:3651.50851\n",
      "[7]\tvalidation_0-rmse:3522.46844\n",
      "[8]\tvalidation_0-rmse:3309.60775\n",
      "[9]\tvalidation_0-rmse:3135.15378\n",
      "[10]\tvalidation_0-rmse:2797.80103\n",
      "[11]\tvalidation_0-rmse:2723.21567\n",
      "[12]\tvalidation_0-rmse:2659.59761\n",
      "[13]\tvalidation_0-rmse:2553.53967\n",
      "[14]\tvalidation_0-rmse:2460.30986\n",
      "[15]\tvalidation_0-rmse:2379.89404\n",
      "[16]\tvalidation_0-rmse:2356.12165\n",
      "[17]\tvalidation_0-rmse:2299.97605\n",
      "[18]\tvalidation_0-rmse:2255.30082\n",
      "[19]\tvalidation_0-rmse:2221.62754\n",
      "[20]\tvalidation_0-rmse:2230.28427\n",
      "[21]\tvalidation_0-rmse:2206.34744\n",
      "[22]\tvalidation_0-rmse:2227.78916\n",
      "[23]\tvalidation_0-rmse:2223.20113\n",
      "[24]\tvalidation_0-rmse:2270.45833\n",
      "[25]\tvalidation_0-rmse:2292.78221\n",
      "[26]\tvalidation_0-rmse:2349.95141\n"
     ]
    },
    {
     "data": {
      "text/plain": [
       "XGBRegressor(base_score=None, booster=None, callbacks=None,\n",
       "             colsample_bylevel=None, colsample_bynode=None,\n",
       "             colsample_bytree=None, early_stopping_rounds=None,\n",
       "             enable_categorical=False, eval_metric=None, feature_types=None,\n",
       "             gamma=None, gpu_id=None, grow_policy=None, importance_type=None,\n",
       "             interaction_constraints=None, learning_rate=0.05, max_bin=None,\n",
       "             max_cat_threshold=None, max_cat_to_onehot=None,\n",
       "             max_delta_step=None, max_depth=None, max_leaves=None,\n",
       "             min_child_weight=None, missing=nan, monotone_constraints=None,\n",
       "             n_estimators=1000, n_jobs=4, num_parallel_tree=None,\n",
       "             predictor=None, random_state=None, ...)"
      ]
     },
     "execution_count": 32,
     "metadata": {},
     "output_type": "execute_result"
    }
   ],
   "source": [
    "# n_jobs:\n",
    "\n",
    "my_model = XGBRegressor(n_estimators=1000, learning_rate=0.05, n_jobs=4)\n",
    "my_model.fit(X_train, y_train, \n",
    "             early_stopping_rounds=5, \n",
    "             eval_set=[(X_valid, y_valid)], \n",
    "             verbose= True)"
   ]
  },
  {
   "cell_type": "code",
   "execution_count": 33,
   "id": "924cc1cf",
   "metadata": {},
   "outputs": [
    {
     "name": "stdout",
     "output_type": "stream",
     "text": [
      "Mean Absolute Error: 1987.458740234375\n"
     ]
    }
   ],
   "source": [
    "predictions = my_model.predict(X_valid)\n",
    "print(\"Mean Absolute Error: \" + str(mean_absolute_error(predictions, y_valid)))"
   ]
  },
  {
   "cell_type": "code",
   "execution_count": 34,
   "id": "fb3d222d",
   "metadata": {},
   "outputs": [
    {
     "data": {
      "image/png": "[encoded data removed]",
      "text/plain": [
       "<Figure size 640x480 with 1 Axes>"
      ]
     },
     "metadata": {},
     "output_type": "display_data"
    }
   ],
   "source": [
    "import matplotlib.pyplot as plt\n",
    "my_model = xgb.XGBRegressor()\n",
    "my_model.fit(X_train, y_train)\n",
    "\n",
    "xgb.plot_importance(my_model)\n",
    "plt.show()"
   ]
  },
  {
   "cell_type": "markdown",
   "id": "58821180",
   "metadata": {},
   "source": [
    "Analysis and Interpretation\n",
    "\n",
    "# Objective\n",
    "Predicting the number of deaths based on different predictors (features) including population, new cases, active cases, and recovered cases by performing regression analysis with the XGBoost algorithm.\n",
    "\n",
    "# Brief\n",
    "•\tThe code shows how to train an XGBoost regression model in a variety of ways, including defining hyperparameters, early halting, modifying learning rates, and using multiple cores. The main goal is to create a model that correctly forecasts the number of deaths using the information provided as predictor variables. The model's performance is evaluated using evaluation measures like MAE and early halting.\n",
    "\n",
    "•\tSelecting predictors and target: We took a subset of predictors ('Population', 'CasesNew', 'CasesActive', 'CasesRecovered') and assigned them to the variable X.\n",
    "The target variable ('DeathsTotal') is assigned to the variable y.\n",
    "\n",
    "•\tEarly stopping: Early stopping is implemented to prevent overfitting. The early stopping_rounds parameter specifies that if the model's performance on the validation set (X_valid, y_valid) doesn't improve for 5 consecutive rounds, the training will stop.\n",
    "\n",
    "# Outcome\n",
    "The model's predictions are made on the validation data (X_valid) and compared to the actual target values (y_valid). The mean absolute error (MAE) is calculated and printed, which provides an indication of how well the model's predictions match the actual values. The MAE value, 1987.458740234375 represents the average absolute difference between the predicted number of deaths and the actual number of deaths across the validation set.\n"
   ]
  }
 ],
 "metadata": {
  "kernelspec": {
   "display_name": "Python 3 (ipykernel)",
   "language": "python",
   "name": "python3"
  },
  "language_info": {
   "codemirror_mode": {
    "name": "ipython",
    "version": 3
   },
   "file_extension": ".py",
   "mimetype": "text/x-python",
   "name": "python",
   "nbconvert_exporter": "python",
   "pygments_lexer": "ipython3",
   "version": "3.9.16"
  }
 },
 "nbformat": 4,
 "nbformat_minor": 5
}
